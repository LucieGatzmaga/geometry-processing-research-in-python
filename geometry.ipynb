{
 "cells": [
  {
   "cell_type": "markdown",
   "metadata": {},
   "source": [
    "## Exercise 0"
   ]
  },
  {
   "cell_type": "code",
   "execution_count": 1,
   "metadata": {},
   "outputs": [],
   "source": [
    "import gpytoolbox as gpy\n",
    "import polyscope as ps\n",
    "import numpy as np\n",
    "import scipy as sp"
   ]
  },
  {
   "cell_type": "code",
   "execution_count": 4,
   "metadata": {},
   "outputs": [
    {
     "name": "stdout",
     "output_type": "stream",
     "text": [
      "0.3.2\n",
      "1.26.4\n",
      "1.26.4\n",
      "1.13.1\n"
     ]
    }
   ],
   "source": [
    "print(gpy.__version__)\n",
    "print(ps.np.__version__)\n",
    "print(np.__version__)\n",
    "print(sp.__version__)"
   ]
  },
  {
   "cell_type": "markdown",
   "metadata": {},
   "source": [
    "## Exercise 1"
   ]
  },
  {
   "cell_type": "code",
   "execution_count": 8,
   "metadata": {},
   "outputs": [
    {
     "name": "stdout",
     "output_type": "stream",
     "text": [
      "[7. 8.]\n",
      "[[1. 2.]\n",
      " [3. 4.]\n",
      " [5. 6.]]\n",
      "[[13. 14.]\n",
      " [15. 16.]\n",
      " [17. 18.]]\n",
      "A+B: [[14. 16.]\n",
      " [18. 20.]\n",
      " [22. 24.]]\n",
      "B*A: [[ 13.  28.]\n",
      " [ 45.  64.]\n",
      " [ 85. 108.]]\n",
      "A-3: [[-2. -1.]\n",
      " [ 0.  1.]\n",
      " [ 2.  3.]]\n",
      "1./A: [[1.         0.5       ]\n",
      " [0.33333333 0.25      ]\n",
      " [0.2        0.16666667]]\n"
     ]
    }
   ],
   "source": [
    "u = np.array([7., 8.])\n",
    "A = np.array([[1., 2.], [3., 4.], [5., 6.]])\n",
    "B = np.array([[13., 14.], [15., 16.], [17., 18.]])\n",
    "\n",
    "print(u)\n",
    "print(A)\n",
    "print(B)\n",
    "\n",
    "print(f'A+B: {A+B}')\n",
    "print(f'B*A: {B*A}')\n",
    "print(f'A-3: {A-3}')\n",
    "print(f'1./A: {1./A}')"
   ]
  },
  {
   "cell_type": "markdown",
   "metadata": {},
   "source": [
    "### Matrix Arithmetic"
   ]
  },
  {
   "cell_type": "code",
   "execution_count": 9,
   "metadata": {},
   "outputs": [
    {
     "name": "stdout",
     "output_type": "stream",
     "text": [
      "A@u matrix multiplication: [23. 53. 83.]\n",
      "transpose A.T: [[1. 3. 5.]\n",
      " [2. 4. 6.]]\n",
      "||A||_F = 9.539392014169456\n",
      "||u||= 10.63014581273465\n"
     ]
    }
   ],
   "source": [
    "print(f'A@u matrix multiplication: {A@u}')\n",
    "print(f'transpose A.T: {A.T}')\n",
    "print(f'||A||_F = {np.linalg.norm(A)}')\n",
    "print(f'||u||= {np.linalg.norm(u)}')"
   ]
  },
  {
   "cell_type": "markdown",
   "metadata": {},
   "source": [
    "### Solving Linear Systems"
   ]
  },
  {
   "cell_type": "code",
   "execution_count": 11,
   "metadata": {},
   "outputs": [
    {
     "name": "stdout",
     "output_type": "stream",
     "text": [
      "inv(C)@v = [ 1.  -1.5]\n"
     ]
    }
   ],
   "source": [
    "C = np.array([[1., 2.], [3., 4.]])\n",
    "v = np.array([-2, -3])\n",
    "print(f'inv(C)@v = {np.linalg.solve(C,v)}')"
   ]
  },
  {
   "cell_type": "markdown",
   "metadata": {},
   "source": [
    "### Sparse Matrices"
   ]
  },
  {
   "cell_type": "code",
   "execution_count": 13,
   "metadata": {},
   "outputs": [
    {
     "name": "stdout",
     "output_type": "stream",
     "text": [
      "inv(D)*b = [-1. -4.  1.]\n",
      "inv(D)*a = [ 3.  1. -1.]\n",
      "inv(D)*b = [ 1.  3. -2.]\n"
     ]
    },
    {
     "name": "stderr",
     "output_type": "stream",
     "text": [
      "C:\\Users\\Rainer Gatzmaga\\AppData\\Local\\Temp\\ipykernel_26020\\4199561906.py:6: SparseEfficiencyWarning: splu converted its input to CSC format\n",
      "  precomp = sp.sparse.linalg.splu(D)\n"
     ]
    }
   ],
   "source": [
    "i = np.array([0,1,1,2])\n",
    "j = np.array([0,1,2,2])\n",
    "k = np.array([1., -1., -2., 1.])\n",
    "D = sp.sparse.csr_matrix((k, (i,j)), shape=(3,3))\n",
    "w = np.array([-1., 2., 1.])\n",
    "precomp = sp.sparse.linalg.splu(D)\n",
    "\n",
    "print(f'inv(D)*b = {sp.sparse.linalg.spsolve(D,w)}')\n",
    "\n",
    "a = np.array([3., 1., -1.])\n",
    "print(f\"inv(D)*a = {precomp.solve(a)}\")\n",
    "b = np.array([1., 1., -2.])\n",
    "print(f\"inv(D)*b = {precomp.solve(b)}\")"
   ]
  },
  {
   "cell_type": "markdown",
   "metadata": {},
   "source": [
    "## Exercise 2"
   ]
  },
  {
   "cell_type": "code",
   "execution_count": 16,
   "metadata": {},
   "outputs": [],
   "source": [
    "V = np.array([[0.,0.], [1.,0.], [0.,1.], [1.,1.]])\n",
    "F = np.array([[0, 1, 2], [2,1,3]])\n",
    "ps.init()\n",
    "ps.register_surface_mesh(\"mesh\", V, F)\n",
    "ps.show()"
   ]
  },
  {
   "cell_type": "code",
   "execution_count": 17,
   "metadata": {},
   "outputs": [],
   "source": [
    "U,E = gpy.read_mesh('exercise_03/data/penguin.obj')\n",
    "ps.init()\n",
    "ps.register_surface_mesh(\"mesh\", U, E)\n",
    "ps.show()"
   ]
  },
  {
   "cell_type": "code",
   "execution_count": null,
   "metadata": {},
   "outputs": [],
   "source": [
    "gpy.write_mesh(\"twotriangles.obj\", V, F)"
   ]
  },
  {
   "cell_type": "code",
   "execution_count": 2,
   "metadata": {},
   "outputs": [],
   "source": [
    "VS,FS = gpy.icosphere(5)\n",
    "ps.init()\n",
    "ps.register_surface_mesh(\"sphere\", VS, FS)\n",
    "ps.show()"
   ]
  },
  {
   "cell_type": "markdown",
   "metadata": {},
   "source": [
    "## Exercise 5"
   ]
  },
  {
   "cell_type": "markdown",
   "metadata": {},
   "source": [
    "### Boundary Vertices"
   ]
  },
  {
   "cell_type": "code",
   "execution_count": 5,
   "metadata": {},
   "outputs": [
    {
     "name": "stdout",
     "output_type": "stream",
     "text": [
      "The boundary has 2 components.\n"
     ]
    }
   ],
   "source": [
    "V,F = gpy.read_mesh(\"exercise_05/data/penguin_with_bdry.obj\")\n",
    "bl = gpy.boundary_loops(F)\n",
    "print(f\"The boundary has {len(bl)} components.\")\n",
    "ps.init()\n",
    "ps_penguin = ps.register_surface_mesh(\"penguin\", V, F)\n",
    "ps_penguin_bdry0 = ps.register_point_cloud(\"penguin bdry 0\", V[bl[0],:])\n",
    "ps_penguin_bdry1 = ps.register_point_cloud(\"penguin bdry 1\", V[bl[1],:])\n",
    "ps.show()"
   ]
  },
  {
   "cell_type": "markdown",
   "metadata": {},
   "source": [
    "### Triangle Areas"
   ]
  },
  {
   "cell_type": "code",
   "execution_count": 6,
   "metadata": {},
   "outputs": [
    {
     "name": "stdout",
     "output_type": "stream",
     "text": [
      "Total mesh area: 12.730073170563058\n"
     ]
    }
   ],
   "source": [
    "V,F = gpy.read_mesh(\"exercise_03/data/penguin.obj\")\n",
    "A = 0.5 * gpy.doublearea(V,F)\n",
    "print(f\"Total mesh area: {np.sum(A)}\")\n",
    "ps.init()\n",
    "ps_penguin = ps.register_surface_mesh(\"penguin\", V, F)\n",
    "ps_penguin.add_scalar_quantity(\"triangle areas\", A,\n",
    "    defined_on='faces', enabled=True)\n",
    "ps.show()"
   ]
  },
  {
   "cell_type": "markdown",
   "metadata": {},
   "source": [
    "### Normals"
   ]
  },
  {
   "cell_type": "code",
   "execution_count": 7,
   "metadata": {},
   "outputs": [],
   "source": [
    "V,F = gpy.icosphere(2)\n",
    "N = gpy.per_face_normals(V,F)\n",
    "ps.init()\n",
    "ps_sphere = ps.register_surface_mesh(\"sphere\", V, F)\n",
    "ps_sphere.add_vector_quantity(\"per face normals\", N,\n",
    "    defined_on='faces', enabled=True)\n",
    "ps.show()"
   ]
  },
  {
   "cell_type": "markdown",
   "metadata": {},
   "source": [
    "### Angle Defect"
   ]
  },
  {
   "cell_type": "code",
   "execution_count": 8,
   "metadata": {},
   "outputs": [],
   "source": [
    "V,F = gpy.read_mesh(\"exercise_03/data/penguin.obj\")\n",
    "k = gpy.angle_defect(V,F)\n",
    "ps.init()\n",
    "ps_penguin = ps.register_surface_mesh(\"penguin\", V, F,\n",
    "    material='wax', smooth_shade=True)\n",
    "ps_penguin.add_scalar_quantity(\"angle defect\", k,\n",
    "    vminmax=(-0.15,0.15), cmap='coolwarm', enabled=True)\n",
    "ps.show()"
   ]
  },
  {
   "cell_type": "code",
   "execution_count": null,
   "metadata": {},
   "outputs": [],
   "source": []
  }
 ],
 "metadata": {
  "kernelspec": {
   "display_name": "base",
   "language": "python",
   "name": "python3"
  },
  "language_info": {
   "codemirror_mode": {
    "name": "ipython",
    "version": 3
   },
   "file_extension": ".py",
   "mimetype": "text/x-python",
   "name": "python",
   "nbconvert_exporter": "python",
   "pygments_lexer": "ipython3",
   "version": "3.12.4"
  }
 },
 "nbformat": 4,
 "nbformat_minor": 2
}
